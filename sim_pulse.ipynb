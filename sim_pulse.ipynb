{
 "cells": [
  {
   "cell_type": "code",
   "execution_count": 24,
   "metadata": {},
   "outputs": [],
   "source": [
    "import paths\n",
    "import gnucap\n",
    "import matplotlib.pyplot as plt"
   ]
  },
  {
   "cell_type": "code",
   "execution_count": 6,
   "metadata": {},
   "outputs": [],
   "source": [
    "from gnucap import command as cmd"
   ]
  },
  {
   "cell_type": "code",
   "execution_count": 8,
   "metadata": {},
   "outputs": [
    {
     "data": {
      "text/plain": [
       "''"
      ]
     },
     "execution_count": 8,
     "metadata": {},
     "output_type": "execute_result"
    }
   ],
   "source": [
    "cmd(\"get sim_pulse.ckt\")"
   ]
  },
  {
   "cell_type": "markdown",
   "metadata": {},
   "source": [
    "setup simulation"
   ]
  },
  {
   "cell_type": "code",
   "execution_count": 38,
   "metadata": {},
   "outputs": [
    {
     "data": {
      "text/plain": [
       "''"
      ]
     },
     "execution_count": 38,
     "metadata": {},
     "output_type": "execute_result"
    }
   ],
   "source": [
    "cmd(\"list\")  # lists loaded circuit in console\n",
    "cmd(\"store tran v(nodes)\")\n",
    "cmd(\"transient 0.1 3 trace=none > /dev/null\") # spice aliases don't work"
   ]
  },
  {
   "cell_type": "markdown",
   "metadata": {},
   "source": [
    "fetch output"
   ]
  },
  {
   "cell_type": "code",
   "execution_count": 39,
   "metadata": {},
   "outputs": [],
   "source": [
    "w = gnucap.CKT_BASE_find_wave(\"v(1)\")\n",
    "\n",
    "ts=[]; ys = []\n",
    "for y in w:\n",
    "    # ts.append(t)\n",
    "    ys.append(y)"
   ]
  },
  {
   "cell_type": "code",
   "execution_count": 40,
   "metadata": {},
   "outputs": [
    {
     "data": {
      "text/plain": [
       "[(0.0, 0.0),\n",
       " (0.001, 0.0),\n",
       " (0.1, 0.0),\n",
       " (0.2, 0.0),\n",
       " (0.30000000000000004, 0.0),\n",
       " (0.4, 0.0),\n",
       " (0.5, 0.0),\n",
       " (0.6, 0.0),\n",
       " (0.7, 0.0),\n",
       " (0.7999999999999999, 0.0),\n",
       " (0.8999999999999999, 0.0),\n",
       " (0.9999999999999999, 0.0),\n",
       " (1.0999999999999999, 0.0),\n",
       " (1.2, 0.0),\n",
       " (1.3, 0.0),\n",
       " (1.4000000000000001, 0.0),\n",
       " (1.5000000000000002, 0.0),\n",
       " (1.6000000000000003, 0.0),\n",
       " (1.7000000000000004, 0.0),\n",
       " (1.8000000000000005, 0.0),\n",
       " (1.9000000000000006, 0.0),\n",
       " (2.0000000000000004, 0.0),\n",
       " (2.1000000000000005, 0.0),\n",
       " (2.2000000000000006, 0.0),\n",
       " (2.3000000000000007, 0.0),\n",
       " (2.400000000000001, 0.0),\n",
       " (2.500000000000001, 0.0),\n",
       " (2.600000000000001, 0.0),\n",
       " (2.700000000000001, 0.0),\n",
       " (2.800000000000001, 0.0),\n",
       " (2.9000000000000012, 0.0),\n",
       " (3.0000000000000013, 0.0)]"
      ]
     },
     "execution_count": 40,
     "metadata": {},
     "output_type": "execute_result"
    }
   ],
   "source": [
    "# ts, ys\n",
    "ys\n",
    "# plt.plot(ts, ys)\n"
   ]
  },
  {
   "cell_type": "code",
   "execution_count": null,
   "metadata": {},
   "outputs": [],
   "source": []
  }
 ],
 "metadata": {
  "kernelspec": {
   "display_name": "Python 3",
   "language": "python",
   "name": "python3"
  },
  "language_info": {
   "codemirror_mode": {
    "name": "ipython",
    "version": 3
   },
   "file_extension": ".py",
   "mimetype": "text/x-python",
   "name": "python",
   "nbconvert_exporter": "python",
   "pygments_lexer": "ipython3",
   "version": "3.5.3"
  }
 },
 "nbformat": 4,
 "nbformat_minor": 2
}
