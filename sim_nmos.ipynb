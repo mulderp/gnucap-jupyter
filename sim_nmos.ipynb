{
 "cells": [
  {
   "cell_type": "code",
   "execution_count": 1,
   "metadata": {},
   "outputs": [
    {
     "name": "stderr",
     "output_type": "stream",
     "text": [
      "POSIX ON\n",
      "PYDDL'd\n",
      "cmd imported\n",
      "welcome to gnucap-python\n",
      "loading default plugins\n",
      "making session\n"
     ]
    }
   ],
   "source": [
    "import paths\n",
    "import gnucap\n",
    "import matplotlib.pyplot as plt"
   ]
  },
  {
   "cell_type": "code",
   "execution_count": 2,
   "metadata": {},
   "outputs": [],
   "source": [
    "from gnucap import command as cmd\n",
    "from env import show_ckt\n"
   ]
  },
  {
   "cell_type": "code",
   "execution_count": 3,
   "metadata": {},
   "outputs": [
    {
     "name": "stdout",
     "output_type": "stream",
     "text": [
      "** simulation nmos\n",
      "Vds 1 0 DC +10V\n",
      "Vgs 2 0 DC +3V\n",
      "M1 1 2 0 0 nmos_enhance L=10u W=400u\n",
      "\n",
      "* model statement (Level 1 by default)\n",
      ".MODEL nmos_enhance nmos (kp=20u Vto=+2 lambda=0)\n",
      "\n",
      "** output\n",
      ".print DC V(1) I(Vds)\n",
      "\n",
      "** analysis\n",
      ".DC Vds 0V 3V 100mV\n"
     ]
    }
   ],
   "source": [
    "cmd(\"get ckts/sim_nmos.ckt\")\n",
    "show_ckt(\"ckts/sim_nmos.ckt\")"
   ]
  },
  {
   "cell_type": "markdown",
   "metadata": {},
   "source": [
    "setup simulation"
   ]
  },
  {
   "cell_type": "code",
   "execution_count": 5,
   "metadata": {},
   "outputs": [
    {
     "data": {
      "text/plain": [
       "''"
      ]
     },
     "execution_count": 5,
     "metadata": {},
     "output_type": "execute_result"
    }
   ],
   "source": [
    "cmd(\"list\")  # lists loaded circuit in console\n",
    "cmd(\"store dc V(1) I(Vds)\")\n",
    "cmd(\"dc vds 0V 3V 100mV\")"
   ]
  },
  {
   "cell_type": "markdown",
   "metadata": {},
   "source": [
    "fetch output"
   ]
  },
  {
   "cell_type": "code",
   "execution_count": 8,
   "metadata": {},
   "outputs": [],
   "source": [
    "w = gnucap.CKT_BASE_find_wave(\"I(Vds)\")\n",
    "\n",
    "xs=[]; ys = []\n",
    "for x,y in w:\n",
    "    xs.append(x)\n",
    "    ys.append(y*(-1.0))"
   ]
  },
  {
   "cell_type": "code",
   "execution_count": 9,
   "metadata": {},
   "outputs": [
    {
     "data": {
      "text/plain": [
       "[<matplotlib.lines.Line2D at 0x7f8dcd9dcac8>]"
      ]
     },
     "execution_count": 9,
     "metadata": {},
     "output_type": "execute_result"
    },
    {
     "data": {
      "image/png": "[encoded data removed]",
      "text/plain": [
       "<Figure size 432x288 with 1 Axes>"
      ]
     },
     "metadata": {
      "needs_background": "light"
     },
     "output_type": "display_data"
    }
   ],
   "source": [
    "# xs, ys\n",
    "plt.plot(xs, ys)\n"
   ]
  },
  {
   "cell_type": "code",
   "execution_count": null,
   "metadata": {},
   "outputs": [],
   "source": []
  }
 ],
 "metadata": {
  "kernelspec": {
   "display_name": "Python 3",
   "language": "python",
   "name": "python3"
  },
  "language_info": {
   "codemirror_mode": {
    "name": "ipython",
    "version": 3
   },
   "file_extension": ".py",
   "mimetype": "text/x-python",
   "name": "python",
   "nbconvert_exporter": "python",
   "pygments_lexer": "ipython3",
   "version": "3.5.3"
  }
 },
 "nbformat": 4,
 "nbformat_minor": 2
}
